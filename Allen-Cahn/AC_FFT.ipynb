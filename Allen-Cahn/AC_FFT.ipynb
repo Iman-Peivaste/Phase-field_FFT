{
 "cells": [
  {
   "cell_type": "code",
   "execution_count": 1,
   "metadata": {},
   "outputs": [],
   "source": [
    "import numpy as np\n",
    "import os\n",
    "import time \n",
    "from math import sqrt \n",
    "import matplotlib.pyplot as plt\n",
    "from tqdm import tqdm\n",
    "import cv2\n",
    "from numpy import pi\n",
    "from Read_input import ReadInput\n",
    "from img_to_etas import Etas\n",
    "import pickle\n",
    "start_time = time.time()\n",
    "\n",
    "path = os.getcwd()"
   ]
  },
  {
   "cell_type": "code",
   "execution_count": 2,
   "metadata": {},
   "outputs": [],
   "source": [
    "dt = .008\n",
    "kappa = 0.3\n",
    "L = 20\n",
    "\n",
    "Nx = 128\n",
    "Ny= 128\n",
    "dx = 0.5\n",
    "dy = 0.5\n",
    "\n",
    "num_regions = 2\n",
    "\n",
    "ntimesteps = 10000\n",
    "nprint = 50\n",
    "coefA = 1.0"
   ]
  },
  {
   "cell_type": "code",
   "execution_count": 3,
   "metadata": {},
   "outputs": [],
   "source": [
    "class AC:\n",
    "    def __init__(self, Nx, Ny, num_regions, dx, dy):\n",
    "        self.Nx = Nx\n",
    "        self.Ny = Ny\n",
    "        self.NxNy = Nx*Ny\n",
    "        self.nog = num_regions\n",
    "        self.cx = Nx/2\n",
    "        self.cy = Ny/2\n",
    "        self.kxx = 2*pi*np.fft.fftfreq(Nx, d=dx)\n",
    "        self.kyy = 2*pi*np.fft.fftfreq(Ny, d=dy)\n",
    "        self.kx = np.append(self.kxx, 0)\n",
    "        self.ky = np.append(self.kyy, 0)\n",
    "        \n",
    "    def k2_k4 (self):\n",
    "        k2 = np.zeros((self.Nx, self.Ny))\n",
    "        for i in range(self.Nx):\n",
    "            for j in range(self.Ny):\n",
    "                k2[i,j] = self.kx[i]*self.kx[i]+self.ky[j]*self.ky[j]\n",
    "        k4=k2*k2\n",
    "        return k4, k2\n",
    "    def get_images(self):\n",
    "        #Red all images form input folder \n",
    "        s = ReadInput()\n",
    "        images = s.read()\n",
    "        return images\n",
    "def free_energy(etas, eta, igrain, Nx, Ny, ngrain):\n",
    "    \n",
    "    A = 1.0\n",
    "    B= 1.0\n",
    "    summ = np.zeros((Nx, Ny))\n",
    "    for jgrain in range(ngrain):\n",
    "        if (jgrain != igrain ):\n",
    "            one = etas[:,:,jgrain]\n",
    "            two = np.power(one, 2)\n",
    "            three = np.power(one, 3)\n",
    "            summ = np.add(summ, two)\n",
    "    \n",
    "    dfdeta = A*(2.0*B*np.multiply(eta, summ) + np.power(eta, 3) - eta)\n",
    "    fre_eng = (-A/2)*eta**2+(B/4)*eta**4+eta**2*summ\n",
    "    testfor = -A*eta+B*eta**3+2*eta*summ\n",
    "    return dfdeta, fre_eng, testfor\n",
    "    \n",
    "def plot(Nx, Ny, eta3, step):\n",
    "    eta_r = np.reshape(eta3, (Nx, Ny))\n",
    "    plt.imsave('%d.png'%step, eta_r, cmap='gray')\n"
   ]
  },
  {
   "cell_type": "code",
   "execution_count": 4,
   "metadata": {},
   "outputs": [],
   "source": [
    "model = AC(Nx, Ny, num_regions, dx, dy)\n",
    "k4, k2 = model.k2_k4()\n",
    "all_images = model.get_images()\n",
    "os.chdir(\"..\")"
   ]
  },
  {
   "cell_type": "code",
   "execution_count": 5,
   "metadata": {},
   "outputs": [
    {
     "name": "stdout",
     "output_type": "stream",
     "text": [
      "1\n"
     ]
    }
   ],
   "source": [
    "print(len(all_images))"
   ]
  },
  {
   "cell_type": "code",
   "execution_count": 6,
   "metadata": {},
   "outputs": [],
   "source": [
    "\n",
    "counter=0 \n",
    "   \n",
    "f_val = []\n",
    "checkk = []\n",
    "full = np.zeros((1, 201, 128, 128, 2))\n",
    "\n",
    "full[:,:,:,:,1]=1\n",
    "\n",
    "ii =0"
   ]
  },
  {
   "cell_type": "code",
   "execution_count": 8,
   "metadata": {},
   "outputs": [
    {
     "name": "stdout",
     "output_type": "stream",
     "text": [
      "0\n",
      "Unique labels in label dataset are:  [0 1]\n"
     ]
    },
    {
     "name": "stderr",
     "output_type": "stream",
     "text": [
      "tqdm() Progress Bar: 100%|██████████████████████████████████████████████████████| 10000/10000 [00:48<00:00, 205.70it/s]\n"
     ]
    }
   ],
   "source": [
    "for img in all_images:\n",
    "    print(ii)\n",
    "    jj=0\n",
    "\n",
    "    s = Etas(img, num_regions)\n",
    "    etas = s.create_etas()\n",
    "\n",
    "    counter +=1\n",
    "    is_all_one = True\n",
    "    glist = np.ones(num_regions)\n",
    "    dt = 0.008\n",
    "    feneg = []\n",
    "    for step in tqdm (range(ntimesteps), desc = 'tqdm() Progress Bar'):\n",
    "        for igrain in range(num_regions):\n",
    "            if (glist[igrain] == 1):\n",
    "                \n",
    "                eta = etas [:,:, igrain]\n",
    "                dfdeta, fre_eng, testfor = free_energy(etas, eta, igrain, Nx, Ny, num_regions)\n",
    "                #print(dfdeta)\n",
    "               # print(testfor)\n",
    "                etak = np.fft.fft2(eta)\n",
    "                dfdetak = np.fft.fft2(dfdeta)\n",
    "                denom = 1 + dt * coefA*L*kappa * k2\n",
    "                number = dt * L * dfdetak\n",
    "                etak = (etak -number)/denom\n",
    "                eta = np.fft.ifft2 (etak)\n",
    "                eta = eta.real\n",
    "                eta = np.where(eta>0.9999, 0.9999, eta)\n",
    "                eta = np.where (eta<=0.00001, 0.00001, eta)\n",
    "                etas[:,:,igrain] = eta[:,:]\n",
    "                \n",
    "                sss = 0\n",
    "                checks = sum(eta)\n",
    "                sss = sum(checks)\n",
    "                sss = sum(checks)/(Nx*Ny)\n",
    "                if (sss<0.001):\n",
    "                    glist[igrain]=0\n",
    "                    # print(\"this grain has been eliminated:%d \\n\" %igrain)\n",
    "                    # etas[:,:,0]=0.0\n",
    "                    # etas[:,:,1]=1.0\n",
    "                    is_all_one = False\n",
    "                    break\n",
    "        if step%nprint == 0 or step == ntimesteps-1:\n",
    "            # print(\"\\n %d and %d and step %d\"%(ii, jj, step))\n",
    "            \n",
    "            if is_all_one:\n",
    "            \n",
    "                full[ii, jj, :,:,:] = etas\n",
    "                jj+=1\n",
    "            \n",
    "    ii+=1"
   ]
  },
  {
   "cell_type": "code",
   "execution_count": 9,
   "metadata": {},
   "outputs": [
    {
     "name": "stdout",
     "output_type": "stream",
     "text": [
      "\n",
      " compute time is :196 seconds\n"
     ]
    }
   ],
   "source": [
    "end_time = time.time()\n",
    "etime=-(start_time-end_time)\n",
    "print (\"\\n compute time is :%1d seconds\"%etime) \n",
    "full = np.float32(full)"
   ]
  },
  {
   "cell_type": "code",
   "execution_count": 17,
   "metadata": {},
   "outputs": [],
   "source": [
    "mat= full[0,1,:,:,1]"
   ]
  },
  {
   "cell_type": "code",
   "execution_count": 21,
   "metadata": {},
   "outputs": [],
   "source": [
    "for i in range (shape[1]):\n",
    "    mat = full[0, i , :,:,1]\n",
    "    plt.imsave('%d.png'%i, mat, cmap='gray')\n",
    "    "
   ]
  },
  {
   "cell_type": "code",
   "execution_count": null,
   "metadata": {},
   "outputs": [],
   "source": []
  }
 ],
 "metadata": {
  "kernelspec": {
   "display_name": "Python 3",
   "language": "python",
   "name": "python3"
  },
  "language_info": {
   "codemirror_mode": {
    "name": "ipython",
    "version": 3
   },
   "file_extension": ".py",
   "mimetype": "text/x-python",
   "name": "python",
   "nbconvert_exporter": "python",
   "pygments_lexer": "ipython3",
   "version": "3.8.12"
  },
  "varInspector": {
   "cols": {
    "lenName": 16,
    "lenType": 16,
    "lenVar": 40
   },
   "kernels_config": {
    "python": {
     "delete_cmd_postfix": "",
     "delete_cmd_prefix": "del ",
     "library": "var_list.py",
     "varRefreshCmd": "print(var_dic_list())"
    },
    "r": {
     "delete_cmd_postfix": ") ",
     "delete_cmd_prefix": "rm(",
     "library": "var_list.r",
     "varRefreshCmd": "cat(var_dic_list()) "
    }
   },
   "oldHeight": 521.844,
   "position": {
    "height": "543.844px",
    "left": "1230px",
    "right": "20px",
    "top": "120px",
    "width": "350px"
   },
   "types_to_exclude": [
    "module",
    "function",
    "builtin_function_or_method",
    "instance",
    "_Feature"
   ],
   "varInspector_section_display": "block",
   "window_display": true
  }
 },
 "nbformat": 4,
 "nbformat_minor": 4
}
